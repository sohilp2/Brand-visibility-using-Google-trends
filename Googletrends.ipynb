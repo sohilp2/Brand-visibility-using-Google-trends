{
 "cells": [
  {
   "cell_type": "code",
   "execution_count": 1,
   "metadata": {},
   "outputs": [
    {
     "name": "stdout",
     "output_type": "stream",
     "text": [
      "[{'ip': '202.70.82.253', 'port': '23500'}, {'ip': '110.74.193.43', 'port': '48051'}, {'ip': '125.27.10.235', 'port': '30431'}, {'ip': '200.150.120.82', 'port': '40144'}, {'ip': '45.220.58.16', 'port': '8080'}, {'ip': '134.255.241.108', 'port': '57801'}, {'ip': '176.213.142.220', 'port': '37187'}, {'ip': '194.246.105.51', 'port': '41258'}, {'ip': '1.20.102.228', 'port': '32283'}, {'ip': '46.39.224.208', 'port': '55775'}, {'ip': '1.20.101.15', 'port': '31439'}, {'ip': '182.52.238.124', 'port': '46096'}, {'ip': '93.171.242.70', 'port': '35590'}, {'ip': '123.108.201.133', 'port': '30946'}, {'ip': '185.61.92.207', 'port': '31303'}, {'ip': '185.26.65.110', 'port': '58562'}, {'ip': '186.103.173.189', 'port': '36835'}, {'ip': '1.20.103.111', 'port': '33168'}, {'ip': '111.125.143.184', 'port': '46566'}, {'ip': '200.6.139.235', 'port': '50259'}, {'ip': '201.184.146.114', 'port': '60003'}, {'ip': '182.52.238.118', 'port': '45217'}, {'ip': '202.79.34.156', 'port': '36275'}, {'ip': '1.20.101.76', 'port': '32706'}, {'ip': '1.20.103.8', 'port': '32322'}, {'ip': '94.41.92.22', 'port': '43249'}, {'ip': '103.43.40.8', 'port': '37463'}, {'ip': '1.20.101.134', 'port': '44950'}, {'ip': '95.158.63.46', 'port': '35981'}, {'ip': '119.82.253.47', 'port': '37523'}, {'ip': '119.82.253.6', 'port': '56703'}, {'ip': '109.238.222.5', 'port': '59005'}, {'ip': '136.228.128.6', 'port': '54189'}, {'ip': '1.20.96.95', 'port': '43208'}, {'ip': '118.179.210.106', 'port': '43842'}, {'ip': '101.109.255.64', 'port': '32766'}, {'ip': '190.85.153.141', 'port': '34063'}, {'ip': '1.20.96.142', 'port': '58150'}, {'ip': '1.20.101.96', 'port': '61672'}, {'ip': '24.232.90.65', 'port': '50210'}, {'ip': '198.27.67.35', 'port': '3128'}, {'ip': '168.197.114.129', 'port': '56522'}, {'ip': '14.102.93.96', 'port': '32826'}, {'ip': '182.52.134.118', 'port': '53872'}, {'ip': '93.171.242.142', 'port': '34881'}, {'ip': '103.216.82.209', 'port': '54806'}, {'ip': '71.240.182.6', 'port': '41864'}, {'ip': '134.196.252.175', 'port': '37106'}, {'ip': '154.72.197.106', 'port': '53805'}, {'ip': '94.180.245.109', 'port': '43869'}, {'ip': '94.102.124.207', 'port': '35836'}, {'ip': '191.98.184.125', 'port': '44204'}, {'ip': '125.26.108.12', 'port': '46987'}, {'ip': '54.156.183.45', 'port': '80'}, {'ip': '180.245.168.89', 'port': '8080'}, {'ip': '163.28.10.120', 'port': '80'}, {'ip': '180.253.119.105', 'port': '8080'}, {'ip': '138.255.165.86', 'port': '43773'}, {'ip': '170.0.104.107', 'port': '60337'}, {'ip': '177.85.117.213', 'port': '57074'}, {'ip': '193.233.9.167', 'port': '51991'}, {'ip': '203.210.84.122', 'port': '40817'}, {'ip': '197.211.39.7', 'port': '40591'}, {'ip': '118.175.207.213', 'port': '35799'}, {'ip': '81.167.244.62', 'port': '42803'}, {'ip': '103.22.248.59', 'port': '48560'}, {'ip': '181.129.47.162', 'port': '32769'}, {'ip': '2.92.242.230', 'port': '40014'}, {'ip': '125.26.7.192', 'port': '46141'}, {'ip': '202.3.72.177', 'port': '38725'}, {'ip': '36.66.218.133', 'port': '59838'}, {'ip': '119.82.253.103', 'port': '54286'}, {'ip': '89.151.141.246', 'port': '57757'}, {'ip': '134.249.149.219', 'port': '35795'}, {'ip': '114.130.31.157', 'port': '48523'}, {'ip': '128.199.146.77', 'port': '8080'}, {'ip': '181.112.57.34', 'port': '60148'}, {'ip': '103.242.15.87', 'port': '37272'}, {'ip': '1.10.186.214', 'port': '52780'}, {'ip': '92.39.55.186', 'port': '39663'}, {'ip': '35.245.189.146', 'port': '80'}, {'ip': '116.99.221.101', 'port': '8080'}, {'ip': '110.74.209.202', 'port': '34632'}, {'ip': '202.57.49.146', 'port': '51572'}, {'ip': '1.10.186.163', 'port': '60417'}, {'ip': '118.174.234.49', 'port': '35888'}, {'ip': '80.249.229.64', 'port': '42186'}, {'ip': '157.230.32.4', 'port': '8888'}, {'ip': '36.67.223.67', 'port': '41716'}, {'ip': '178.213.130.159', 'port': '32521'}, {'ip': '78.130.246.44', 'port': '40165'}, {'ip': '103.26.247.106', 'port': '31512'}, {'ip': '125.26.99.195', 'port': '58035'}, {'ip': '125.26.99.204', 'port': '59999'}, {'ip': '83.149.126.77', 'port': '3128'}, {'ip': '154.117.164.18', 'port': '57667'}, {'ip': '118.174.234.109', 'port': '39779'}, {'ip': '177.105.232.72', 'port': '33977'}, {'ip': '1.20.103.6', 'port': '56471'}, {'ip': '86.57.183.106', 'port': '44106'}]\n"
     ]
    }
   ],
   "source": [
    "from urllib.request import Request, urlopen\n",
    "from bs4 import BeautifulSoup\n",
    "from fake_useragent import UserAgent\n",
    "import random\n",
    "\n",
    "ua = UserAgent() # From here we generate a random user agent\n",
    "proxies = [] # Will contain proxies [ip, port]\n",
    "\n",
    "# Main function\n",
    "def main():\n",
    "  # Retrieve latest proxies\n",
    "  proxies_req = Request('https://www.sslproxies.org/')\n",
    "  proxies_req.add_header('User-Agent', ua.random)\n",
    "  proxies_doc = urlopen(proxies_req).read().decode('utf8')\n",
    "\n",
    "  soup = BeautifulSoup(proxies_doc, 'html.parser')\n",
    "  proxies_table = soup.find(id='proxylisttable')\n",
    "\n",
    "  # Save proxies in the array\n",
    "  for row in proxies_table.tbody.find_all('tr'):\n",
    "    proxies.append({\n",
    "      'ip':   row.find_all('td')[0].string,\n",
    "      'port': row.find_all('td')[1].string\n",
    "    })\n",
    "\n",
    "  # Choose a random proxy\n",
    "  proxy_index = random_proxy()\n",
    "  proxy = proxies[proxy_index]\n",
    "def random_proxy():\n",
    "  return random.randint(0, len(proxies) - 1)\n",
    "\n",
    "if __name__ == '__main__':\n",
    "  main()\n",
    "print(proxies)"
   ]
  },
  {
   "cell_type": "code",
   "execution_count": null,
   "metadata": {},
   "outputs": [],
   "source": [
    "import os\n",
    "import csv\n",
    "os.chdir(\"E:\\Texas A&M\\ISEAD\")\n",
    "from pytrends.request import TrendReq\n",
    "from xlrd import open_workbook\n",
    "import pandas as pd\n",
    "import numpy as np\n",
    "df2 = pd.read_excel('shoes_US_2017.xlsx')\n",
    "df2=df2.drop('price',axis=1)\n",
    "df=pd.DataFrame()\n",
    "for j in np.arange(df2.shape[0]):\n",
    "    for i in np.arange(df2.shape[0]):\n",
    "        if j==i:\n",
    "            continue\n",
    "        else:\n",
    "            insert=pd.DataFrame([df2.iloc[j,0],df2.iloc[i,0]])\n",
    "            df=df.append(insert.T)\n",
    "df.index=['brand1','brand2']\n",
    "    "
   ]
  },
  {
   "cell_type": "code",
   "execution_count": null,
   "metadata": {},
   "outputs": [],
   "source": [
    "df.columns=['brand1','brand2']\n",
    "df3=df.drop(df.index[[1:50000]])"
   ]
  },
  {
   "cell_type": "code",
   "execution_count": 2,
   "metadata": {},
   "outputs": [
    {
     "name": "stderr",
     "output_type": "stream",
     "text": [
      "C:\\Users\\Sohil\\Anaconda3\\lib\\site-packages\\pandas\\core\\frame.py:6211: FutureWarning: Sorting because non-concatenation axis is not aligned. A future version\n",
      "of pandas will change to not sort by default.\n",
      "\n",
      "To accept the future behavior, pass 'sort=False'.\n",
      "\n",
      "To retain the current behavior and silence the warning, pass 'sort=True'.\n",
      "\n",
      "  sort=sort)\n"
     ]
    },
    {
     "ename": "ResponseError",
     "evalue": "The request failed: Google returned a response with code 429.",
     "output_type": "error",
     "traceback": [
      "\u001b[1;31m---------------------------------------------------------------------------\u001b[0m",
      "\u001b[1;31mResponseError\u001b[0m                             Traceback (most recent call last)",
      "\u001b[1;32m<ipython-input-2-0683e4b2740f>\u001b[0m in \u001b[0;36m<module>\u001b[1;34m\u001b[0m\n\u001b[0;32m     38\u001b[0m \u001b[1;33m\u001b[0m\u001b[0m\n\u001b[0;32m     39\u001b[0m     \u001b[1;31m#web search\u001b[0m\u001b[1;33m\u001b[0m\u001b[1;33m\u001b[0m\u001b[1;33m\u001b[0m\u001b[0m\n\u001b[1;32m---> 40\u001b[1;33m     \u001b[0mpytrend\u001b[0m\u001b[1;33m.\u001b[0m\u001b[0mbuild_payload\u001b[0m\u001b[1;33m(\u001b[0m\u001b[0mkw_list\u001b[0m\u001b[1;33m=\u001b[0m\u001b[1;33m[\u001b[0m\u001b[0mrow\u001b[0m\u001b[1;33m[\u001b[0m\u001b[1;34m'brand1'\u001b[0m\u001b[1;33m]\u001b[0m\u001b[1;33m,\u001b[0m \u001b[0mrow\u001b[0m\u001b[1;33m[\u001b[0m\u001b[1;34m'brand2'\u001b[0m\u001b[1;33m]\u001b[0m\u001b[1;33m]\u001b[0m\u001b[1;33m,\u001b[0m \u001b[0mtimeframe\u001b[0m\u001b[1;33m=\u001b[0m\u001b[1;34m'2016-02-17 2016-02-21'\u001b[0m\u001b[1;33m)\u001b[0m\u001b[1;33m\u001b[0m\u001b[1;33m\u001b[0m\u001b[0m\n\u001b[0m\u001b[0;32m     41\u001b[0m     \u001b[0minterest_over_time_df\u001b[0m \u001b[1;33m=\u001b[0m \u001b[0mpytrend\u001b[0m\u001b[1;33m.\u001b[0m\u001b[0minterest_over_time\u001b[0m\u001b[1;33m(\u001b[0m\u001b[1;33m)\u001b[0m\u001b[1;33m\u001b[0m\u001b[1;33m\u001b[0m\u001b[0m\n\u001b[0;32m     42\u001b[0m     \u001b[0mweb_result\u001b[0m\u001b[1;33m=\u001b[0m\u001b[0minterest_over_time_df\u001b[0m\u001b[1;33m\u001b[0m\u001b[1;33m\u001b[0m\u001b[0m\n",
      "\u001b[1;32m~\\Anaconda3\\lib\\site-packages\\pytrends\\request.py\u001b[0m in \u001b[0;36mbuild_payload\u001b[1;34m(self, kw_list, cat, timeframe, geo, gprop)\u001b[0m\n\u001b[0;32m    118\u001b[0m         \u001b[0mself\u001b[0m\u001b[1;33m.\u001b[0m\u001b[0mtoken_payload\u001b[0m\u001b[1;33m[\u001b[0m\u001b[1;34m'req'\u001b[0m\u001b[1;33m]\u001b[0m \u001b[1;33m=\u001b[0m \u001b[0mjson\u001b[0m\u001b[1;33m.\u001b[0m\u001b[0mdumps\u001b[0m\u001b[1;33m(\u001b[0m\u001b[0mself\u001b[0m\u001b[1;33m.\u001b[0m\u001b[0mtoken_payload\u001b[0m\u001b[1;33m[\u001b[0m\u001b[1;34m'req'\u001b[0m\u001b[1;33m]\u001b[0m\u001b[1;33m)\u001b[0m\u001b[1;33m\u001b[0m\u001b[1;33m\u001b[0m\u001b[0m\n\u001b[0;32m    119\u001b[0m         \u001b[1;31m# get tokens\u001b[0m\u001b[1;33m\u001b[0m\u001b[1;33m\u001b[0m\u001b[1;33m\u001b[0m\u001b[0m\n\u001b[1;32m--> 120\u001b[1;33m         \u001b[0mself\u001b[0m\u001b[1;33m.\u001b[0m\u001b[0m_tokens\u001b[0m\u001b[1;33m(\u001b[0m\u001b[1;33m)\u001b[0m\u001b[1;33m\u001b[0m\u001b[1;33m\u001b[0m\u001b[0m\n\u001b[0m\u001b[0;32m    121\u001b[0m         \u001b[1;32mreturn\u001b[0m\u001b[1;33m\u001b[0m\u001b[1;33m\u001b[0m\u001b[0m\n\u001b[0;32m    122\u001b[0m \u001b[1;33m\u001b[0m\u001b[0m\n",
      "\u001b[1;32m~\\Anaconda3\\lib\\site-packages\\pytrends\\request.py\u001b[0m in \u001b[0;36m_tokens\u001b[1;34m(self)\u001b[0m\n\u001b[0;32m    129\u001b[0m             \u001b[0mmethod\u001b[0m\u001b[1;33m=\u001b[0m\u001b[0mTrendReq\u001b[0m\u001b[1;33m.\u001b[0m\u001b[0mGET_METHOD\u001b[0m\u001b[1;33m,\u001b[0m\u001b[1;33m\u001b[0m\u001b[1;33m\u001b[0m\u001b[0m\n\u001b[0;32m    130\u001b[0m             \u001b[0mparams\u001b[0m\u001b[1;33m=\u001b[0m\u001b[0mself\u001b[0m\u001b[1;33m.\u001b[0m\u001b[0mtoken_payload\u001b[0m\u001b[1;33m,\u001b[0m\u001b[1;33m\u001b[0m\u001b[1;33m\u001b[0m\u001b[0m\n\u001b[1;32m--> 131\u001b[1;33m             \u001b[0mtrim_chars\u001b[0m\u001b[1;33m=\u001b[0m\u001b[1;36m4\u001b[0m\u001b[1;33m,\u001b[0m\u001b[1;33m\u001b[0m\u001b[1;33m\u001b[0m\u001b[0m\n\u001b[0m\u001b[0;32m    132\u001b[0m         )['widgets']\n\u001b[0;32m    133\u001b[0m \u001b[1;33m\u001b[0m\u001b[0m\n",
      "\u001b[1;32m~\\Anaconda3\\lib\\site-packages\\pytrends\\request.py\u001b[0m in \u001b[0;36m_get_data\u001b[1;34m(self, url, method, trim_chars, **kwargs)\u001b[0m\n\u001b[0;32m     99\u001b[0m             \u001b[1;31m# is not allowed by Google\u001b[0m\u001b[1;33m\u001b[0m\u001b[1;33m\u001b[0m\u001b[1;33m\u001b[0m\u001b[0m\n\u001b[0;32m    100\u001b[0m             raise exceptions.ResponseError('The request failed: Google returned a '\n\u001b[1;32m--> 101\u001b[1;33m                                            'response with code {0}.'.format(response.status_code), response=response)\n\u001b[0m\u001b[0;32m    102\u001b[0m \u001b[1;33m\u001b[0m\u001b[0m\n\u001b[0;32m    103\u001b[0m     \u001b[1;32mdef\u001b[0m \u001b[0mbuild_payload\u001b[0m\u001b[1;33m(\u001b[0m\u001b[0mself\u001b[0m\u001b[1;33m,\u001b[0m \u001b[0mkw_list\u001b[0m\u001b[1;33m,\u001b[0m \u001b[0mcat\u001b[0m\u001b[1;33m=\u001b[0m\u001b[1;36m0\u001b[0m\u001b[1;33m,\u001b[0m \u001b[0mtimeframe\u001b[0m\u001b[1;33m=\u001b[0m\u001b[1;34m'today 5-y'\u001b[0m\u001b[1;33m,\u001b[0m \u001b[0mgeo\u001b[0m\u001b[1;33m=\u001b[0m\u001b[1;34m''\u001b[0m\u001b[1;33m,\u001b[0m \u001b[0mgprop\u001b[0m\u001b[1;33m=\u001b[0m\u001b[1;34m''\u001b[0m\u001b[1;33m)\u001b[0m\u001b[1;33m:\u001b[0m\u001b[1;33m\u001b[0m\u001b[1;33m\u001b[0m\u001b[0m\n",
      "\u001b[1;31mResponseError\u001b[0m: The request failed: Google returned a response with code 429."
     ]
    }
   ],
   "source": [
    "import os\n",
    "import csv\n",
    "os.chdir(\"E:\\Texas A&M\\ISEAD\")\n",
    "from pytrends.request import TrendReq\n",
    "from xlrd import open_workbook\n",
    "import pandas as pd\n",
    "import numpy as np\n",
    "import time\n",
    "df=pd.read_csv('data2.csv')\n",
    "finalweb=[]\n",
    "finalimage=[]\n",
    "total_mean_result=pd.DataFrame()\n",
    "#print(df.head())\n",
    "ij=0\n",
    "# Login to Google. Only need to run this once, the rest of requests will use the same session.\n",
    "pytrend = TrendReq()\n",
    "# Create payload and capture API tokens. Only needed for interest_over_time(), interest_by_region() & related_queries()\n",
    "for index, row in df.iterrows():\n",
    "    if row['brand1']==row['brand2']:\n",
    "        continue\n",
    "    \n",
    "    if ij % 80==0:\n",
    "        proxy = proxies[random_proxy()]\n",
    "        pytrend = TrendReq(hl='en-US', tz=360, proxies=proxy)\n",
    "        ij=0\n",
    "    #image search \n",
    "    \n",
    "    time.sleep(5)\n",
    "    pytrend.build_payload(kw_list=[row['brand1'], row['brand2']], timeframe='2016-02-17 2016-02-21', gprop='images')\n",
    "    interest_over_time_df = pytrend.interest_over_time()\n",
    "    images_result=interest_over_time_df\n",
    "    #brand1_name=interest_over_time_df.columns.values[0] #brand name 1\n",
    "    #brand2_name=interest_over_time_df.columns.values[1] #brand name 2\n",
    "    if interest_over_time_df.empty:\n",
    "        brand1_mean_image=0\n",
    "    else:brand1_mean_image=interest_over_time_df.iloc[:,0].mean()\n",
    "    #brand2_mean_image=interest_over_time_df.iloc[:,1].mean()\n",
    "        \n",
    "    #web search\n",
    "    pytrend.build_payload(kw_list=[row['brand1'], row['brand2']], timeframe='2016-02-17 2016-02-21')\n",
    "    interest_over_time_df = pytrend.interest_over_time()\n",
    "    web_result=interest_over_time_df\n",
    "    if interest_over_time_df.empty:\n",
    "        brand1_mean_web=0\n",
    "    else:brand1_mean_web=interest_over_time_df.iloc[:,0].mean() \n",
    "    #brand2_mean_web=interest_over_time_df.iloc[:,1].mean()\n",
    "    \n",
    "    ij=ij+1\n",
    "    #build average result dataframe\n",
    "    mean_result = pd.DataFrame([brand1_mean_web,brand1_mean_image])\n",
    "    total_mean_result = total_mean_result.append(mean_result.T)\n",
    "    \n",
    "    #collect all raw results\n",
    "    finalweb=pd.DataFrame(finalweb.append(web_result))\n",
    "    finalimage=pd.DataFrame(finalimage.append(images_result))\n",
    "        \n",
    "    \n",
    "\n",
    "\n"
   ]
  },
  {
   "cell_type": "code",
   "execution_count": null,
   "metadata": {},
   "outputs": [],
   "source": [
    "total_mean_result.to_csv(\"totalresults3.csv\")\n"
   ]
  },
  {
   "cell_type": "code",
   "execution_count": null,
   "metadata": {},
   "outputs": [],
   "source": [
    "finalweb=finalweb.drop(['isPartial'],axis=1)\n",
    "finalimage.drop(['isPartial'],axis=1)\n",
    "dfweb=pd.DataFrame(np.zeros(shape=(finalweb.shape[0],4)))\n",
    "dfweb.fillna(np.nan)\n",
    "k=0\n",
    "for i in np.arange(finalweb.shape[0]):\n",
    "    for j in np.arange(finalweb.shape[1]):\n",
    "        if pd.isna(finalweb.iloc[i,j]):\n",
    "            continue\n",
    "        else:\n",
    "            dfweb.iloc[i,k]=finalweb.columns.values[j]\n",
    "            dfweb.iloc[i,k+1]=finalweb.iloc[i,j]\n",
    "            k=k+2            \n",
    "        j=j+1 \n",
    "        #print(dfweb[iii])\n",
    "    k=0    \n",
    "    i=i+1    \n",
    "print(dfweb)          "
   ]
  },
  {
   "cell_type": "code",
   "execution_count": null,
   "metadata": {},
   "outputs": [],
   "source": [
    "finalimage=finalimage.drop(['isPartial'],axis=1)\n",
    "dfimage=pd.DataFrame(np.zeros(shape=(finalimage.shape[0],4)))\n",
    "dfimage.fillna(np.nan)\n",
    "k=0\n",
    "for i in np.arange(finalimage.shape[0]):\n",
    "    for j in np.arange(finalimage.shape[1]):\n",
    "        if pd.isna(finalimage.iloc[i,j]):\n",
    "            continue\n",
    "        else:\n",
    "            dfimage.iloc[i,k]=finalimage.columns.values[j]\n",
    "            dfimage.iloc[i,k+1]=finalimage.iloc[i,j]\n",
    "            k=k+2            \n",
    "        j=j+1       \n",
    "    k=0    \n",
    "    i=i+1    \n",
    "print(dfimage)          "
   ]
  },
  {
   "cell_type": "code",
   "execution_count": null,
   "metadata": {},
   "outputs": [],
   "source": [
    "dfweb.index=finalweb.index\n",
    "dfimage.index=finalimage.index\n",
    "print(dfweb)"
   ]
  },
  {
   "cell_type": "code",
   "execution_count": null,
   "metadata": {},
   "outputs": [],
   "source": [
    "#Write into csv\n",
    "dfweb.to_csv(\"webresults.csv\")\n",
    "dfimage.to_csv(\"imageresults.csv\")"
   ]
  },
  {
   "cell_type": "code",
   "execution_count": null,
   "metadata": {},
   "outputs": [],
   "source": [
    "import os\n",
    "import csv\n",
    "os.chdir(\"E:\\Texas A&M\\ISEAD\")\n",
    "from pytrends.request import TrendReq\n",
    "from xlrd import open_workbook\n",
    "import pandas as pd\n",
    "import numpy as np\n",
    "df = pd.read_excel('shoes_US_2017.xlsx')"
   ]
  },
  {
   "cell_type": "code",
   "execution_count": null,
   "metadata": {},
   "outputs": [],
   "source": [
    "print(df.drop('price',axis=1))"
   ]
  },
  {
   "cell_type": "code",
   "execution_count": null,
   "metadata": {},
   "outputs": [],
   "source": [
    "print(insert.T)"
   ]
  },
  {
   "cell_type": "code",
   "execution_count": 26,
   "metadata": {},
   "outputs": [
    {
     "name": "stdout",
     "output_type": "stream",
     "text": [
      "0\n",
      "(0, 0)\n"
     ]
    }
   ],
   "source": [
    "print(ij)\n",
    "print(total_mean_result.shape)"
   ]
  },
  {
   "cell_type": "code",
   "execution_count": 3,
   "metadata": {},
   "outputs": [
    {
     "name": "stdout",
     "output_type": "stream",
     "text": [
      "       0     1\n",
      "0    0.0  18.2\n",
      "0    0.0  20.0\n",
      "0    0.0   6.4\n",
      "0    0.0   0.0\n",
      "0    0.0   8.0\n",
      "0    0.0  20.0\n",
      "0    0.0   4.2\n",
      "0    0.0   6.8\n",
      "0    0.0  20.0\n",
      "0    0.0   0.6\n",
      "0    0.0  20.0\n",
      "0    0.0  20.0\n",
      "0    0.0   1.0\n",
      "0    0.0   3.0\n",
      "0    0.0  20.0\n",
      "0    0.0  19.2\n",
      "0    0.0  18.4\n",
      "0    0.0  10.4\n",
      "0    0.0  18.4\n",
      "0    0.0  20.0\n",
      "0    0.0  20.0\n",
      "0    0.0  18.4\n",
      "0    0.0  20.0\n",
      "0    0.0   5.0\n",
      "0    0.0   5.2\n",
      "0    0.0  18.4\n",
      "0    0.0  10.0\n",
      "0    0.0   1.0\n",
      "0    0.0   0.2\n",
      "0    0.0   0.2\n",
      "..   ...   ...\n",
      "0    0.0   0.6\n",
      "0    0.0  18.4\n",
      "0    0.0   0.4\n",
      "0    0.0   0.0\n",
      "0    0.0   1.4\n",
      "0    0.0  20.0\n",
      "0    0.0   6.8\n",
      "0    0.0   0.8\n",
      "0    0.0   0.2\n",
      "0    0.0   0.6\n",
      "0    0.0   0.2\n",
      "0    0.0   2.4\n",
      "0    0.0   1.4\n",
      "0    0.0  12.6\n",
      "0    0.0   0.4\n",
      "0    0.0   5.0\n",
      "0    0.0   0.2\n",
      "0    0.0   6.4\n",
      "0    0.0  18.4\n",
      "0    0.0   0.2\n",
      "0    0.0   1.8\n",
      "0    0.0   0.0\n",
      "0    0.0  20.0\n",
      "0    0.0  20.0\n",
      "0    0.0  20.0\n",
      "0    0.0  20.0\n",
      "0   68.2  37.6\n",
      "0   68.2  37.6\n",
      "0   15.2  13.0\n",
      "0    0.0   0.0\n",
      "\n",
      "[356 rows x 2 columns]\n"
     ]
    }
   ],
   "source": [
    "print(total_mean_result)"
   ]
  },
  {
   "cell_type": "code",
   "execution_count": 23,
   "metadata": {},
   "outputs": [
    {
     "name": "stdout",
     "output_type": "stream",
     "text": [
      "Object `req.set_proxy` not found.\n"
     ]
    }
   ],
   "source": [
    "req.set_proxy?"
   ]
  },
  {
   "cell_type": "code",
   "execution_count": null,
   "metadata": {},
   "outputs": [],
   "source": [
    "#  for n in range(1, 100):\n",
    "#    req = Request('http://icanhazip.com')\n",
    "#    req.set_proxy(proxy['ip'] + ':' + proxy['port'], 'http')\n",
    "\n",
    "    # Every 10 requests, generate a new proxy\n",
    "#    if n % 10 == 0:\n",
    "#      proxy_index = random_proxy()\n",
    "#      proxy = proxies[proxy_index]\n",
    "\n",
    "    # Make the call\n",
    "#    try:\n",
    "#      my_ip = urlopen(req).read().decode('utf8')\n",
    "#      print('#' + str(n) + ': ' + my_ip)\n",
    "#    except: # If error, delete this proxy and find another one\n",
    "#      del proxies[proxy_index]\n",
    "#      print('Proxy ' + proxy['ip'] + ':' + proxy['port'] + ' deleted.')\n",
    "#      proxy_index = random_proxy()\n",
    "#      proxy = proxies[proxy_index]\n",
    "\n",
    "# Retrieve a random index proxy (we need the index to delete it if not working)\n",
    "def random_proxy():\n",
    "  return random.randint(0, len(proxies) - 1)\n",
    "\n",
    "if __name__ == '__main__':\n",
    "  main()\n",
    "print(proxies)"
   ]
  }
 ],
 "metadata": {
  "kernelspec": {
   "display_name": "Python 3",
   "language": "python",
   "name": "python3"
  },
  "language_info": {
   "codemirror_mode": {
    "name": "ipython",
    "version": 3
   },
   "file_extension": ".py",
   "mimetype": "text/x-python",
   "name": "python",
   "nbconvert_exporter": "python",
   "pygments_lexer": "ipython3",
   "version": "3.7.1"
  }
 },
 "nbformat": 4,
 "nbformat_minor": 2
}
