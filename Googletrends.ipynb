{
 "cells": [
  {
   "cell_type": "code",
   "execution_count": null,
   "metadata": {},
   "outputs": [],
   "source": [
    "import os\n",
    "import csv\n",
    "os.chdir(\"E:\\Texas A&M\\ISEAD\")\n",
    "from pytrends.request import TrendReq\n",
    "from xlrd import open_workbook\n",
    "import pandas as pd\n",
    "import numpy as np\n",
    "df2 = pd.read_excel('shoes_US_2017.xlsx')\n",
    "df2=df2.drop('price',axis=1)\n",
    "df=pd.DataFrame()\n",
    "for j in np.arange(df2.shape[0]):\n",
    "    for i in np.arange(df2.shape[0]):\n",
    "        if j==i:\n",
    "            continue\n",
    "        else:\n",
    "            insert=pd.DataFrame([df2.iloc[j,0],df2.iloc[i,0]])\n",
    "            df=df.append(insert.T)\n",
    "df.index=['brand1','brand2']\n",
    "    "
   ]
  },
  {
   "cell_type": "code",
   "execution_count": null,
   "metadata": {},
   "outputs": [],
   "source": [
    "df.columns=['brand1','brand2']\n",
    "df3=df.drop(df.index[[1:50000]])"
   ]
  },
  {
   "cell_type": "code",
   "execution_count": 1,
   "metadata": {},
   "outputs": [
    {
     "ename": "ResponseError",
     "evalue": "The request failed: Google returned a response with code 429.",
     "output_type": "error",
     "traceback": [
      "\u001b[1;31m---------------------------------------------------------------------------\u001b[0m",
      "\u001b[1;31mResponseError\u001b[0m                             Traceback (most recent call last)",
      "\u001b[1;32m<ipython-input-1-ddea1819c6d8>\u001b[0m in \u001b[0;36m<module>\u001b[1;34m\u001b[0m\n\u001b[0;32m     22\u001b[0m     \u001b[1;31m#image search\u001b[0m\u001b[1;33m\u001b[0m\u001b[1;33m\u001b[0m\u001b[1;33m\u001b[0m\u001b[0m\n\u001b[0;32m     23\u001b[0m     \u001b[0mtime\u001b[0m\u001b[1;33m.\u001b[0m\u001b[0msleep\u001b[0m\u001b[1;33m(\u001b[0m\u001b[1;36m2\u001b[0m\u001b[1;33m)\u001b[0m\u001b[1;33m\u001b[0m\u001b[1;33m\u001b[0m\u001b[0m\n\u001b[1;32m---> 24\u001b[1;33m     \u001b[0mpytrend\u001b[0m\u001b[1;33m.\u001b[0m\u001b[0mbuild_payload\u001b[0m\u001b[1;33m(\u001b[0m\u001b[0mkw_list\u001b[0m\u001b[1;33m=\u001b[0m\u001b[1;33m[\u001b[0m\u001b[0mrow\u001b[0m\u001b[1;33m[\u001b[0m\u001b[1;34m'brand1'\u001b[0m\u001b[1;33m]\u001b[0m\u001b[1;33m,\u001b[0m \u001b[0mrow\u001b[0m\u001b[1;33m[\u001b[0m\u001b[1;34m'brand2'\u001b[0m\u001b[1;33m]\u001b[0m\u001b[1;33m]\u001b[0m\u001b[1;33m,\u001b[0m \u001b[0mtimeframe\u001b[0m\u001b[1;33m=\u001b[0m\u001b[1;34m'2016-02-17 2016-02-21'\u001b[0m\u001b[1;33m,\u001b[0m \u001b[0mgprop\u001b[0m\u001b[1;33m=\u001b[0m\u001b[1;34m'images'\u001b[0m\u001b[1;33m)\u001b[0m\u001b[1;33m\u001b[0m\u001b[1;33m\u001b[0m\u001b[0m\n\u001b[0m\u001b[0;32m     25\u001b[0m     \u001b[0minterest_over_time_df\u001b[0m \u001b[1;33m=\u001b[0m \u001b[0mpytrend\u001b[0m\u001b[1;33m.\u001b[0m\u001b[0minterest_over_time\u001b[0m\u001b[1;33m(\u001b[0m\u001b[1;33m)\u001b[0m\u001b[1;33m\u001b[0m\u001b[1;33m\u001b[0m\u001b[0m\n\u001b[0;32m     26\u001b[0m     \u001b[0mimages_result\u001b[0m\u001b[1;33m=\u001b[0m\u001b[0minterest_over_time_df\u001b[0m\u001b[1;33m\u001b[0m\u001b[1;33m\u001b[0m\u001b[0m\n",
      "\u001b[1;32m~\\Anaconda3\\lib\\site-packages\\pytrends\\request.py\u001b[0m in \u001b[0;36mbuild_payload\u001b[1;34m(self, kw_list, cat, timeframe, geo, gprop)\u001b[0m\n\u001b[0;32m    118\u001b[0m         \u001b[0mself\u001b[0m\u001b[1;33m.\u001b[0m\u001b[0mtoken_payload\u001b[0m\u001b[1;33m[\u001b[0m\u001b[1;34m'req'\u001b[0m\u001b[1;33m]\u001b[0m \u001b[1;33m=\u001b[0m \u001b[0mjson\u001b[0m\u001b[1;33m.\u001b[0m\u001b[0mdumps\u001b[0m\u001b[1;33m(\u001b[0m\u001b[0mself\u001b[0m\u001b[1;33m.\u001b[0m\u001b[0mtoken_payload\u001b[0m\u001b[1;33m[\u001b[0m\u001b[1;34m'req'\u001b[0m\u001b[1;33m]\u001b[0m\u001b[1;33m)\u001b[0m\u001b[1;33m\u001b[0m\u001b[1;33m\u001b[0m\u001b[0m\n\u001b[0;32m    119\u001b[0m         \u001b[1;31m# get tokens\u001b[0m\u001b[1;33m\u001b[0m\u001b[1;33m\u001b[0m\u001b[1;33m\u001b[0m\u001b[0m\n\u001b[1;32m--> 120\u001b[1;33m         \u001b[0mself\u001b[0m\u001b[1;33m.\u001b[0m\u001b[0m_tokens\u001b[0m\u001b[1;33m(\u001b[0m\u001b[1;33m)\u001b[0m\u001b[1;33m\u001b[0m\u001b[1;33m\u001b[0m\u001b[0m\n\u001b[0m\u001b[0;32m    121\u001b[0m         \u001b[1;32mreturn\u001b[0m\u001b[1;33m\u001b[0m\u001b[1;33m\u001b[0m\u001b[0m\n\u001b[0;32m    122\u001b[0m \u001b[1;33m\u001b[0m\u001b[0m\n",
      "\u001b[1;32m~\\Anaconda3\\lib\\site-packages\\pytrends\\request.py\u001b[0m in \u001b[0;36m_tokens\u001b[1;34m(self)\u001b[0m\n\u001b[0;32m    129\u001b[0m             \u001b[0mmethod\u001b[0m\u001b[1;33m=\u001b[0m\u001b[0mTrendReq\u001b[0m\u001b[1;33m.\u001b[0m\u001b[0mGET_METHOD\u001b[0m\u001b[1;33m,\u001b[0m\u001b[1;33m\u001b[0m\u001b[1;33m\u001b[0m\u001b[0m\n\u001b[0;32m    130\u001b[0m             \u001b[0mparams\u001b[0m\u001b[1;33m=\u001b[0m\u001b[0mself\u001b[0m\u001b[1;33m.\u001b[0m\u001b[0mtoken_payload\u001b[0m\u001b[1;33m,\u001b[0m\u001b[1;33m\u001b[0m\u001b[1;33m\u001b[0m\u001b[0m\n\u001b[1;32m--> 131\u001b[1;33m             \u001b[0mtrim_chars\u001b[0m\u001b[1;33m=\u001b[0m\u001b[1;36m4\u001b[0m\u001b[1;33m,\u001b[0m\u001b[1;33m\u001b[0m\u001b[1;33m\u001b[0m\u001b[0m\n\u001b[0m\u001b[0;32m    132\u001b[0m         )['widgets']\n\u001b[0;32m    133\u001b[0m \u001b[1;33m\u001b[0m\u001b[0m\n",
      "\u001b[1;32m~\\Anaconda3\\lib\\site-packages\\pytrends\\request.py\u001b[0m in \u001b[0;36m_get_data\u001b[1;34m(self, url, method, trim_chars, **kwargs)\u001b[0m\n\u001b[0;32m     99\u001b[0m             \u001b[1;31m# is not allowed by Google\u001b[0m\u001b[1;33m\u001b[0m\u001b[1;33m\u001b[0m\u001b[1;33m\u001b[0m\u001b[0m\n\u001b[0;32m    100\u001b[0m             raise exceptions.ResponseError('The request failed: Google returned a '\n\u001b[1;32m--> 101\u001b[1;33m                                            'response with code {0}.'.format(response.status_code), response=response)\n\u001b[0m\u001b[0;32m    102\u001b[0m \u001b[1;33m\u001b[0m\u001b[0m\n\u001b[0;32m    103\u001b[0m     \u001b[1;32mdef\u001b[0m \u001b[0mbuild_payload\u001b[0m\u001b[1;33m(\u001b[0m\u001b[0mself\u001b[0m\u001b[1;33m,\u001b[0m \u001b[0mkw_list\u001b[0m\u001b[1;33m,\u001b[0m \u001b[0mcat\u001b[0m\u001b[1;33m=\u001b[0m\u001b[1;36m0\u001b[0m\u001b[1;33m,\u001b[0m \u001b[0mtimeframe\u001b[0m\u001b[1;33m=\u001b[0m\u001b[1;34m'today 5-y'\u001b[0m\u001b[1;33m,\u001b[0m \u001b[0mgeo\u001b[0m\u001b[1;33m=\u001b[0m\u001b[1;34m''\u001b[0m\u001b[1;33m,\u001b[0m \u001b[0mgprop\u001b[0m\u001b[1;33m=\u001b[0m\u001b[1;34m''\u001b[0m\u001b[1;33m)\u001b[0m\u001b[1;33m:\u001b[0m\u001b[1;33m\u001b[0m\u001b[1;33m\u001b[0m\u001b[0m\n",
      "\u001b[1;31mResponseError\u001b[0m: The request failed: Google returned a response with code 429."
     ]
    }
   ],
   "source": [
    "import os\n",
    "import csv\n",
    "os.chdir(\"E:\\Texas A&M\\ISEAD\")\n",
    "from pytrends.request import TrendReq\n",
    "from xlrd import open_workbook\n",
    "import pandas as pd\n",
    "import numpy as np\n",
    "import time\n",
    "df=pd.read_csv('data2.csv')\n",
    "finalweb=[]\n",
    "finalimage=[]\n",
    "total_mean_result=pd.DataFrame()\n",
    "#print(df.head())\n",
    "\n",
    "# Login to Google. Only need to run this once, the rest of requests will use the same session.\n",
    "pytrend = TrendReq()\n",
    "# Create payload and capture API tokens. Only needed for interest_over_time(), interest_by_region() & related_queries()\n",
    "for index, row in df.iterrows():\n",
    "    if row['brand1']==row['brand2']:\n",
    "        continue\n",
    "    \n",
    "    #image search \n",
    "    time.sleep(2)\n",
    "    pytrend.build_payload(kw_list=[row['brand1'], row['brand2']], timeframe='2016-02-17 2016-02-21', gprop='images')\n",
    "    interest_over_time_df = pytrend.interest_over_time()\n",
    "    images_result=interest_over_time_df\n",
    "    #brand1_name=interest_over_time_df.columns.values[0] #brand name 1\n",
    "    #brand2_name=interest_over_time_df.columns.values[1] #brand name 2\n",
    "    if interest_over_time_df.empty:\n",
    "        brand1_mean_image=0\n",
    "    else:brand1_mean_image=interest_over_time_df.iloc[:,0].mean()\n",
    "    #brand2_mean_image=interest_over_time_df.iloc[:,1].mean()\n",
    "        \n",
    "    #web search\n",
    "    pytrend.build_payload(kw_list=[row['brand1'], row['brand2']], timeframe='2016-02-17 2016-02-21')\n",
    "    interest_over_time_df = pytrend.interest_over_time()\n",
    "    web_result=interest_over_time_df\n",
    "    brand1_mean_web=interest_over_time_df.iloc[:,0].mean()\n",
    "    #brand2_mean_web=interest_over_time_df.iloc[:,1].mean()\n",
    "    \n",
    "    #build average result dataframe\n",
    "    mean_result = pd.DataFrame([brand1_mean_web,brand1_mean_image])\n",
    "    total_mean_result = total_mean_result.append(mean_result.T)\n",
    "    \n",
    "    #collect all raw results\n",
    "    finalweb=pd.DataFrame(finalweb.append(web_result))\n",
    "    finalimage=pd.DataFrame(finalimage.append(images_result))\n",
    "        \n",
    "    \n",
    "\n",
    "\n"
   ]
  },
  {
   "cell_type": "code",
   "execution_count": null,
   "metadata": {},
   "outputs": [],
   "source": [
    "total_mean_result.to_csv(\"totalresults3.csv\")\n"
   ]
  },
  {
   "cell_type": "code",
   "execution_count": null,
   "metadata": {},
   "outputs": [],
   "source": [
    "finalweb=finalweb.drop(['isPartial'],axis=1)\n",
    "finalimage.drop(['isPartial'],axis=1)\n",
    "dfweb=pd.DataFrame(np.zeros(shape=(finalweb.shape[0],4)))\n",
    "dfweb.fillna(np.nan)\n",
    "k=0\n",
    "for i in np.arange(finalweb.shape[0]):\n",
    "    for j in np.arange(finalweb.shape[1]):\n",
    "        if pd.isna(finalweb.iloc[i,j]):\n",
    "            continue\n",
    "        else:\n",
    "            dfweb.iloc[i,k]=finalweb.columns.values[j]\n",
    "            dfweb.iloc[i,k+1]=finalweb.iloc[i,j]\n",
    "            k=k+2            \n",
    "        j=j+1 \n",
    "        #print(dfweb[iii])\n",
    "    k=0    \n",
    "    i=i+1    \n",
    "print(dfweb)          "
   ]
  },
  {
   "cell_type": "code",
   "execution_count": null,
   "metadata": {},
   "outputs": [],
   "source": [
    "finalimage=finalimage.drop(['isPartial'],axis=1)\n",
    "dfimage=pd.DataFrame(np.zeros(shape=(finalimage.shape[0],4)))\n",
    "dfimage.fillna(np.nan)\n",
    "k=0\n",
    "for i in np.arange(finalimage.shape[0]):\n",
    "    for j in np.arange(finalimage.shape[1]):\n",
    "        if pd.isna(finalimage.iloc[i,j]):\n",
    "            continue\n",
    "        else:\n",
    "            dfimage.iloc[i,k]=finalimage.columns.values[j]\n",
    "            dfimage.iloc[i,k+1]=finalimage.iloc[i,j]\n",
    "            k=k+2            \n",
    "        j=j+1       \n",
    "    k=0    \n",
    "    i=i+1    \n",
    "print(dfimage)          "
   ]
  },
  {
   "cell_type": "code",
   "execution_count": null,
   "metadata": {},
   "outputs": [],
   "source": [
    "dfweb.index=finalweb.index\n",
    "dfimage.index=finalimage.index\n",
    "print(dfweb)"
   ]
  },
  {
   "cell_type": "code",
   "execution_count": null,
   "metadata": {},
   "outputs": [],
   "source": [
    "#Write into csv\n",
    "dfweb.to_csv(\"webresults.csv\")\n",
    "dfimage.to_csv(\"imageresults.csv\")"
   ]
  },
  {
   "cell_type": "code",
   "execution_count": null,
   "metadata": {},
   "outputs": [],
   "source": [
    "import os\n",
    "import csv\n",
    "os.chdir(\"E:\\Texas A&M\\ISEAD\")\n",
    "from pytrends.request import TrendReq\n",
    "from xlrd import open_workbook\n",
    "import pandas as pd\n",
    "import numpy as np\n",
    "df = pd.read_excel('shoes_US_2017.xlsx')"
   ]
  },
  {
   "cell_type": "code",
   "execution_count": null,
   "metadata": {},
   "outputs": [],
   "source": [
    "print(df.drop('price',axis=1))"
   ]
  },
  {
   "cell_type": "code",
   "execution_count": null,
   "metadata": {},
   "outputs": [],
   "source": [
    "print(insert.T)"
   ]
  },
  {
   "cell_type": "code",
   "execution_count": null,
   "metadata": {},
   "outputs": [],
   "source": [
    "print(total_mean_result.shape)"
   ]
  },
  {
   "cell_type": "code",
   "execution_count": null,
   "metadata": {},
   "outputs": [],
   "source": [
    "print(total_mean_result)"
   ]
  },
  {
   "cell_type": "code",
   "execution_count": null,
   "metadata": {},
   "outputs": [],
   "source": [
    "time.sleep?"
   ]
  },
  {
   "cell_type": "code",
   "execution_count": null,
   "metadata": {},
   "outputs": [],
   "source": []
  }
 ],
 "metadata": {
  "kernelspec": {
   "display_name": "Python 3",
   "language": "python",
   "name": "python3"
  },
  "language_info": {
   "codemirror_mode": {
    "name": "ipython",
    "version": 3
   },
   "file_extension": ".py",
   "mimetype": "text/x-python",
   "name": "python",
   "nbconvert_exporter": "python",
   "pygments_lexer": "ipython3",
   "version": "3.7.1"
  }
 },
 "nbformat": 4,
 "nbformat_minor": 2
}
